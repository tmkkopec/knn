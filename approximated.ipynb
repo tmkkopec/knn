{
 "cells": [
  {
   "cell_type": "code",
   "execution_count": 8,
   "metadata": {
    "collapsed": true,
    "deletable": true,
    "editable": true
   },
   "outputs": [],
   "source": [
    "from sklearn import datasets\n",
    "from sklearn.model_selection import train_test_split\n",
    "\n",
    "iris = datasets.load_iris()\n",
    "\n",
    "X = iris.data\n",
    "Y = iris.target\n",
    "\n",
    "X_train, X_test, y_train, y_test = train_test_split(X, Y, test_size=.5)"
   ]
  },
  {
   "cell_type": "code",
   "execution_count": 4,
   "metadata": {
    "collapsed": false,
    "deletable": true,
    "editable": true
   },
   "outputs": [
    {
     "name": "stdout",
     "output_type": "stream",
     "text": [
      "[1, 12, 45, 20, 9, 34, 37, 25, 31, 28, 49, 39, 8, 18, 30, 27, 35, 36, 7, 38, 3, 2, 10, 0, 17, 47, 26, 29, 48, 23]\n"
     ]
    }
   ],
   "source": [
    "# https://github.com/spotify/annoy\n",
    "from annoy import AnnoyIndex\n",
    "\n",
    "f = 4\n",
    "t = AnnoyIndex(f)  # Length of item vector that will be indexed\n",
    "for i in range(X.shape[0]):\n",
    "    v = X[i,:]\n",
    "    t.add_item(i, v)\n",
    "\n",
    "t.build(10) # 10 trees\n",
    "t.save('test.ann')\n",
    "\n",
    "u = AnnoyIndex(f)\n",
    "u.load('test.ann') # super fast, will just mmap the file\n",
    "print(u.get_nns_by_item(1, 30)) # will find the 30 nearest neighbors"
   ]
  },
  {
   "cell_type": "code",
   "execution_count": 5,
   "metadata": {
    "collapsed": false,
    "deletable": true,
    "editable": true
   },
   "outputs": [
    {
     "ename": "ImportError",
     "evalue": "No module named 'pysparnn'",
     "output_type": "error",
     "traceback": [
      "\u001b[0;31m---------------------------------------------------------------------------\u001b[0m",
      "\u001b[0;31mImportError\u001b[0m                               Traceback (most recent call last)",
      "\u001b[0;32m<ipython-input-5-9b35c70c4d4e>\u001b[0m in \u001b[0;36m<module>\u001b[0;34m()\u001b[0m\n\u001b[1;32m      1\u001b[0m \u001b[0;31m# https://github.com/facebookresearch/pysparnn\u001b[0m\u001b[0;34m\u001b[0m\u001b[0;34m\u001b[0m\u001b[0m\n\u001b[0;32m----> 2\u001b[0;31m \u001b[0;32mimport\u001b[0m \u001b[0mpysparnn\u001b[0m\u001b[0;34m.\u001b[0m\u001b[0mcluster_index\u001b[0m \u001b[0;32mas\u001b[0m \u001b[0mci\u001b[0m\u001b[0;34m\u001b[0m\u001b[0m\n\u001b[0m\u001b[1;32m      3\u001b[0m \u001b[0;32mimport\u001b[0m \u001b[0mnumpy\u001b[0m \u001b[0;32mas\u001b[0m \u001b[0mnp\u001b[0m\u001b[0;34m\u001b[0m\u001b[0m\n\u001b[1;32m      4\u001b[0m \u001b[0;32mfrom\u001b[0m \u001b[0mscipy\u001b[0m\u001b[0;34m.\u001b[0m\u001b[0msparse\u001b[0m \u001b[0;32mimport\u001b[0m \u001b[0mcsr_matrix\u001b[0m\u001b[0;34m\u001b[0m\u001b[0m\n\u001b[1;32m      5\u001b[0m \u001b[0;34m\u001b[0m\u001b[0m\n",
      "\u001b[0;31mImportError\u001b[0m: No module named 'pysparnn'"
     ]
    }
   ],
   "source": [
    "# https://github.com/facebookresearch/pysparnn\n",
    "import pysparnn.cluster_index as ci\n",
    "import numpy as np\n",
    "from scipy.sparse import csr_matrix\n",
    "\n",
    "features = np.random.binomial(1, 0.01, size=(1000, 20000))\n",
    "features = csr_matrix(features)\n",
    "\n",
    "# build the search index!\n",
    "data_to_return = range(1000)\n",
    "cp = ci.MultiClusterIndex(features, data_to_return)\n",
    "\n",
    "cp.search(features[:5], k=1, return_distance=False)"
   ]
  },
  {
   "cell_type": "code",
   "execution_count": 9,
   "metadata": {
    "collapsed": false
   },
   "outputs": [
    {
     "name": "stderr",
     "output_type": "stream",
     "text": [
      "/home/tkopec/.local/lib/python3.5/site-packages/sklearn/neighbors/approximate.py:220: DeprecationWarning: LSHForest has poor performance and has been deprecated in 0.19. It will be removed in version 0.21.\n",
      "  DeprecationWarning)\n",
      "/home/tkopec/.local/lib/python3.5/site-packages/sklearn/random_projection.py:378: DataDimensionalityWarning: The number of components is higher than the number of features: n_features < n_components (4 < 32).The dimensionality of the problem will not be reduced.\n",
      "  DataDimensionalityWarning)\n"
     ]
    },
    {
     "data": {
      "text/plain": [
       "array([[  9.46840437e-04,   1.30938507e-03],\n",
       "       [  2.58684993e-04,   3.45456869e-04],\n",
       "       [  9.35060080e-05,   1.09703232e-04],\n",
       "       [  5.47255775e-04,   7.06903628e-04],\n",
       "       [  1.17703860e-04,   2.00817673e-04],\n",
       "       [  3.67869086e-04,   8.11356191e-04],\n",
       "       [  2.35565714e-04,   3.45200095e-04],\n",
       "       [  4.56316510e-05,   1.44331646e-04],\n",
       "       [  4.08242176e-05,   1.72274617e-04],\n",
       "       [  1.33243101e-05,   3.73424516e-04],\n",
       "       [  2.88956771e-04,   9.30016784e-04],\n",
       "       [  3.16767865e-04,   4.77843997e-04],\n",
       "       [  4.61612015e-05,   7.88159592e-05],\n",
       "       [  8.08373731e-05,   2.42323318e-04],\n",
       "       [  6.91802227e-04,   1.33791668e-03],\n",
       "       [  1.72799273e-05,   4.20824330e-05],\n",
       "       [  4.05623617e-04,   4.50125691e-04],\n",
       "       [  4.04525766e-04,   5.00407346e-04],\n",
       "       [  1.48666166e-04,   2.41293129e-04],\n",
       "       [  2.81615290e-04,   5.84331504e-04],\n",
       "       [  7.86970504e-04,   8.31989653e-04],\n",
       "       [  5.33967716e-04,   2.70563965e-03],\n",
       "       [  6.95649297e-05,   2.10407704e-04],\n",
       "       [  5.00010091e-05,   1.51414851e-04],\n",
       "       [  1.14092368e-04,   2.87736333e-04],\n",
       "       [  2.25358384e-05,   4.47199358e-05],\n",
       "       [  1.11022302e-16,   1.11022302e-16],\n",
       "       [  4.96300721e-05,   1.50904652e-04],\n",
       "       [  1.44532795e-04,   2.00991977e-04],\n",
       "       [  1.45901725e-03,   1.60701419e-03],\n",
       "       [  1.15802387e-04,   3.72238266e-04],\n",
       "       [  1.73393812e-04,   2.99779798e-04],\n",
       "       [  0.00000000e+00,   5.19644684e-05],\n",
       "       [  1.21948633e-04,   2.58060196e-04],\n",
       "       [  9.35076429e-05,   1.40893746e-04],\n",
       "       [  1.43358588e-04,   2.66993095e-04],\n",
       "       [  1.35484515e-04,   1.62640238e-04],\n",
       "       [  5.39101411e-05,   8.97804660e-05],\n",
       "       [  1.97957713e-04,   2.74588828e-04],\n",
       "       [  6.61178883e-05,   3.50545108e-04],\n",
       "       [  8.39754736e-05,   1.01355700e-04],\n",
       "       [  9.88525549e-05,   1.54930432e-04],\n",
       "       [  4.74872252e-04,   7.57225299e-04],\n",
       "       [  5.66617647e-04,   5.76406717e-04],\n",
       "       [  4.33994327e-05,   2.48775865e-04],\n",
       "       [  5.36500901e-06,   1.44069039e-05],\n",
       "       [  2.74155726e-04,   3.19550441e-04],\n",
       "       [  1.09610990e-03,   1.61699361e-03],\n",
       "       [  2.84137195e-04,   4.64016197e-04],\n",
       "       [  2.19932481e-04,   2.81350039e-04],\n",
       "       [  1.31438082e-04,   1.38677588e-04],\n",
       "       [  1.80712318e-06,   2.53640077e-04],\n",
       "       [  9.15474405e-05,   1.17661463e-04],\n",
       "       [  8.99228160e-05,   3.52466135e-04],\n",
       "       [  8.71396874e-04,   1.03109676e-03],\n",
       "       [  2.89395885e-05,   2.19319451e-04],\n",
       "       [  6.70603757e-05,   1.45160045e-04],\n",
       "       [  6.45797382e-04,   7.12600123e-04],\n",
       "       [  3.96364827e-04,   4.91728705e-04],\n",
       "       [  3.06802624e-04,   4.51508167e-04],\n",
       "       [  1.14222464e-04,   2.54001499e-04],\n",
       "       [  3.45518587e-04,   5.29269718e-04],\n",
       "       [  1.33610033e-04,   2.22771099e-04],\n",
       "       [  9.02894140e-06,   2.90104429e-04],\n",
       "       [  2.18024136e-04,   2.30526711e-04],\n",
       "       [  6.70501627e-04,   8.58465051e-04],\n",
       "       [  2.56761225e-04,   4.01221851e-04],\n",
       "       [  2.40564914e-05,   8.29277396e-05],\n",
       "       [  6.59359959e-04,   1.00445939e-03],\n",
       "       [  2.55559407e-04,   3.90848457e-04],\n",
       "       [  1.42878116e-04,   2.40569633e-04],\n",
       "       [  7.65549002e-05,   8.42388556e-05],\n",
       "       [  5.49144963e-05,   1.18833503e-04],\n",
       "       [  7.12567472e-05,   7.12567472e-05],\n",
       "       [  2.02920844e-04,   3.54651728e-04]])"
      ]
     },
     "execution_count": 9,
     "metadata": {},
     "output_type": "execute_result"
    }
   ],
   "source": [
    "# http://scikit-learn.org/0.18/modules/generated/sklearn.neighbors.LSHForest.html#sklearn.neighbors.LSHForest\n",
    "from sklearn.neighbors import LSHForest\n",
    "\n",
    "lshf = LSHForest(random_state=42)\n",
    "lshf.fit(X_train)  \n",
    "\n",
    "distances, indices = lshf.kneighbors(X_test, n_neighbors=2)\n",
    "distances                                        "
   ]
  }
 ],
 "metadata": {
  "kernelspec": {
   "display_name": "Python 3",
   "language": "python",
   "name": "python3"
  },
  "language_info": {
   "codemirror_mode": {
    "name": "ipython",
    "version": 3
   },
   "file_extension": ".py",
   "mimetype": "text/x-python",
   "name": "python",
   "nbconvert_exporter": "python",
   "pygments_lexer": "ipython3",
   "version": "3.5.2"
  }
 },
 "nbformat": 4,
 "nbformat_minor": 2
}
