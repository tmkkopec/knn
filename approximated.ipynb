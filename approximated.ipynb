{
 "cells": [
  {
   "cell_type": "code",
   "execution_count": null,
   "metadata": {
    "collapsed": true
   },
   "outputs": [],
   "source": [
    "from sklearn import datasets\n",
    "\n",
    "iris = datasets.load_iris()\n",
    "\n",
    "X = iris.data\n",
    "Y = iris.target\n",
    "N_NEIGHBORS = 3"
   ]
  },
  {
   "cell_type": "code",
   "execution_count": null,
   "metadata": {
    "collapsed": true
   },
   "outputs": [],
   "source": [
    "number_of_vectors, vector_length = X.shape"
   ]
  },
  {
   "cell_type": "code",
   "execution_count": null,
   "metadata": {},
   "outputs": [],
   "source": [
    "!pip install annoy\n",
    "# !pip install git+git://github.com/spotify/annoy.git"
   ]
  },
  {
   "cell_type": "code",
   "execution_count": null,
   "metadata": {
    "scrolled": true
   },
   "outputs": [],
   "source": [
    "# https://github.com/spotify/annoy\n",
    "from annoy import AnnoyIndex\n",
    "\n",
    "\n",
    "ann_index = AnnoyIndex(vector_length, metric='euclidean') \n",
    "for i in range(number_of_vectors):\n",
    "    vector = X[i,:]\n",
    "    ann_index.add_item(i, vector)\n",
    "\n",
    "ann_index.build(10) # 10 trees, larger value will give more accurate results, but larger indexes\n",
    "\n",
    "# find 2 nearest neighbours for every vector from X\n",
    "annoy_indices = np.array([ann_index.get_nns_by_vector(vector, N_NEIGHBORS) for vector in X])\n",
    "annoy_indices"
   ]
  },
  {
   "cell_type": "code",
   "execution_count": null,
   "metadata": {
    "scrolled": true
   },
   "outputs": [],
   "source": [
    "!pip install git+git://github.com/facebookresearch/pysparnn.git"
   ]
  },
  {
   "cell_type": "code",
   "execution_count": null,
   "metadata": {},
   "outputs": [],
   "source": [
    "# https://github.com/facebookresearch/pysparnn\n",
    "import pysparnn.cluster_index as ci\n",
    "from sklearn.model_selection import train_test_split\n",
    "\n",
    "X_train, X_test, y_train, y_test = train_test_split(X, Y, test_size=.2)\n",
    "\n",
    "cp = ci.MultiClusterIndex(X_train, y_train)\n",
    "\n",
    "list(zip(cp.search(X_test, k=1, return_distance=False), y_test))"
   ]
  },
  {
   "cell_type": "code",
   "execution_count": null,
   "metadata": {
    "scrolled": true
   },
   "outputs": [],
   "source": [
    "# http://scikit-learn.org/0.18/modules/generated/sklearn.neighbors.LSHForest.html#sklearn.neighbors.LSHForest\n",
    "from sklearn.neighbors import LSHForest\n",
    "\n",
    "lshf = LSHForest(random_state=42)\n",
    "lshf.fit(X, Y) \n",
    "lshf_distances, lshf_indices = lshf.kneighbors(X, n_neighbors=N_NEIGHBORS)\n",
    "lshf_indices                                      "
   ]
  },
  {
   "cell_type": "code",
   "execution_count": null,
   "metadata": {},
   "outputs": [],
   "source": [
    "from sklearn.neighbors import KNeighborsClassifier\n",
    "\n",
    "classifier = KNeighborsClassifier(n_neighbors=N_NEIGHBORS)\n",
    "classifier.fit(X, Y)\n",
    "distances, indices = classifier.kneighbors(X)\n",
    "indices"
   ]
  },
  {
   "cell_type": "code",
   "execution_count": null,
   "metadata": {
    "collapsed": true
   },
   "outputs": [],
   "source": [
    "import pandas as pd"
   ]
  },
  {
   "cell_type": "code",
   "execution_count": null,
   "metadata": {
    "scrolled": false
   },
   "outputs": [],
   "source": [
    "d = {'KNeighborsClassifier': list(indices), 'annoy': list(annoy_indices), 'lshforest': list(lshf_indices)}\n",
    "df = pd.DataFrame(d, index=range(number_of_vectors))\n",
    "\n",
    "pd.set_option('display.max_rows', number_of_vectors)\n",
    "df"
   ]
  }
 ],
 "metadata": {
  "kernelspec": {
   "display_name": "Python 3",
   "language": "python",
   "name": "python3"
  },
  "language_info": {
   "codemirror_mode": {
    "name": "ipython",
    "version": 3
   },
   "file_extension": ".py",
   "mimetype": "text/x-python",
   "name": "python",
   "nbconvert_exporter": "python",
   "pygments_lexer": "ipython3",
   "version": "3.6.1"
  }
 },
 "nbformat": 4,
 "nbformat_minor": 2
}
