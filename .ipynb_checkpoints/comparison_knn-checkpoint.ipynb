{
 "cells": [
  {
   "cell_type": "code",
   "execution_count": null,
   "metadata": {
    "collapsed": true
   },
   "outputs": [],
   "source": [
    "from collections import OrderedDict\n",
    "import matplotlib.pyplot as plt"
   ]
  },
  {
   "cell_type": "code",
   "execution_count": 34,
   "metadata": {
    "collapsed": true,
    "deletable": true,
    "editable": true
   },
   "outputs": [],
   "source": [
    "from sklearn import datasets\n",
    "from sklearn.model_selection import train_test_split\n",
    "\n",
    "iris = datasets.load_iris()\n",
    "\n",
    "X = iris.data\n",
    "Y = iris.target\n",
    "\n",
    "X_train, X_test, y_train, y_test = train_test_split(X, Y, test_size=.5)"
   ]
  },
  {
   "cell_type": "code",
   "execution_count": 23,
   "metadata": {
    "collapsed": true,
    "deletable": true,
    "editable": true
   },
   "outputs": [],
   "source": [
    "from sklearn.neighbors import KNeighborsClassifier\n",
    "N_NEIGHBORS = 10"
   ]
  },
  {
   "cell_type": "code",
   "execution_count": 26,
   "metadata": {
    "collapsed": false,
    "deletable": true,
    "editable": true
   },
   "outputs": [
    {
     "name": "stdout",
     "output_type": "stream",
     "text": [
      "METRICS COMPARISON\n"
     ]
    },
    {
     "data": {
      "text/plain": [
       "{('chebyshev', None): 0.95999999999999996,\n",
       " ('euclidean', None): 0.97333333333333338,\n",
       " ('minkowski', 2): 0.97333333333333338,\n",
       " ('minkowski', 4): 0.95999999999999996}"
      ]
     },
     "execution_count": 26,
     "metadata": {},
     "output_type": "execute_result"
    }
   ],
   "source": [
    "def score_by_metric(metric, p=None):\n",
    "    if p is not None:\n",
    "        classifier = KNeighborsClassifier(n_neighbors=N_NEIGHBORS, metric=metric, p=p)\n",
    "    else:\n",
    "        classifier = KNeighborsClassifier(n_neighbors=N_NEIGHBORS, metric=metric)\n",
    "    classifier.fit(X_train, y_train)\n",
    "    return classifier.score(X_test, y_test)\n",
    "    \n",
    "metrics = [('minkowski', 2), ('minkowski', 4), ('euclidean', None), ('chebyshev', None)]\n",
    "\n",
    "print('METRICS COMPARISON')\n",
    "{k: score_by_metric(*k) for k in metrics}"
   ]
  },
  {
   "cell_type": "code",
   "execution_count": 44,
   "metadata": {
    "collapsed": false,
    "deletable": true,
    "editable": true
   },
   "outputs": [
    {
     "name": "stdout",
     "output_type": "stream",
     "text": [
      "DATASETS COMPARISON\n",
      "OrderedDict([(10, 0.40000000000000002), (20, 0.84999999999999998), (40, 0.90000000000000002), (60, 0.94999999999999996), (75, 0.92000000000000004)])\n"
     ]
    },
    {
     "data": {
      "image/png": "[encoded data removed]",
      "text/plain": [
       "<matplotlib.figure.Figure at 0x7ffb13437898>"
      ]
     },
     "metadata": {},
     "output_type": "display_data"
    }
   ],
   "source": [
    "def score_by_dataset(rows):\n",
    "    classifier = KNeighborsClassifier(n_neighbors=N_NEIGHBORS)\n",
    "    classifier.fit(X_train[:rows], y_train[:rows])\n",
    "    return classifier.score(X_test[:rows], y_test[:rows])\n",
    "\n",
    "indices = [10, 20, 40, 60, 75]\n",
    "\n",
    "print('DATASETS COMPARISON')\n",
    "results = {k: score_by_dataset(k) for k in indices}\n",
    "results = OrderedDict(sorted(results.items()))\n",
    "print(results)\n",
    "\n",
    "plt.plot(results.keys(), results.values())\n",
    "plt.xlabel('elements in a set')\n",
    "plt.ylabel('score')\n",
    "plt.show()"
   ]
  },
  {
   "cell_type": "code",
   "execution_count": 45,
   "metadata": {
    "collapsed": false,
    "deletable": true,
    "editable": true
   },
   "outputs": [
    {
     "name": "stdout",
     "output_type": "stream",
     "text": [
      "K COMPARISON\n",
      "OrderedDict([(1, 0.93333333333333335), (2, 0.92000000000000004), (5, 0.94666666666666666), (10, 0.92000000000000004), (20, 0.89333333333333331), (30, 0.8666666666666667), (50, 0.83999999999999997), (75, 0.32000000000000001)])\n"
     ]
    },
    {
     "data": {
      "image/png": "[encoded data removed]",
      "text/plain": [
       "<matplotlib.figure.Figure at 0x7ffb13390208>"
      ]
     },
     "metadata": {},
     "output_type": "display_data"
    }
   ],
   "source": [
    "def score_by_k(k):\n",
    "    classifier = KNeighborsClassifier(n_neighbors=k)\n",
    "    classifier.fit(X_train, y_train)\n",
    "    return classifier.score(X_test, y_test)\n",
    "\n",
    "ks = [1, 2, 5, 10, 20, 30, 50, 75]\n",
    "\n",
    "print('K COMPARISON')\n",
    "results = {k: score_by_k(k) for k in ks}\n",
    "results = OrderedDict(sorted(results.items()))\n",
    "print(results)\n",
    "\n",
    "plt.plot(results.keys(), results.values())\n",
    "plt.xlabel('k')\n",
    "plt.ylabel('score')\n",
    "plt.show()"
   ]
  },
  {
   "cell_type": "code",
   "execution_count": null,
   "metadata": {
    "collapsed": true,
    "deletable": true,
    "editable": true
   },
   "outputs": [],
   "source": []
  }
 ],
 "metadata": {
  "kernelspec": {
   "display_name": "Python 3",
   "language": "python",
   "name": "python3"
  },
  "language_info": {
   "codemirror_mode": {
    "name": "ipython",
    "version": 3
   },
   "file_extension": ".py",
   "mimetype": "text/x-python",
   "name": "python",
   "nbconvert_exporter": "python",
   "pygments_lexer": "ipython3",
   "version": "3.5.2"
  }
 },
 "nbformat": 4,
 "nbformat_minor": 2
}
