{
 "cells": [
  {
   "cell_type": "code",
   "execution_count": 1,
   "metadata": {
    "collapsed": true
   },
   "outputs": [],
   "source": [
    "# load dataset\n",
    "from sklearn import datasets\n",
    "from sklearn.model_selection import train_test_split\n",
    "\n",
    "iris = datasets.load_iris()\n",
    "\n",
    "X = iris.data\n",
    "Y = iris.target\n",
    "\n",
    "X_train, X_test, y_train, y_test = train_test_split(X, Y, test_size=.5)"
   ]
  },
  {
   "cell_type": "code",
   "execution_count": 2,
   "metadata": {
    "collapsed": true
   },
   "outputs": [],
   "source": [
    "from sklearn.neighbors import KNeighborsClassifier\n",
    "N_NEIGHBORS = 30"
   ]
  },
  {
   "cell_type": "code",
   "execution_count": 11,
   "metadata": {
    "collapsed": false
   },
   "outputs": [],
   "source": [
    "nbrs = KNeighborsClassifier(n_neighbors=N_NEIGHBORS)\n",
    "nbrs.fit(X_train, y_train)\n",
    "\n",
    "# find distances to k=N_NEIGHBORS neighbors\n",
    "dist, _ = nbrs.kneighbors()\n",
    "# radiuses are contained in a last column\n",
    "radiuses = dist[:, -1]"
   ]
  },
  {
   "cell_type": "code",
   "execution_count": 13,
   "metadata": {
    "collapsed": true
   },
   "outputs": [],
   "source": [
    "# calculate mean value and normalized radius\n",
    "from numpy import mean\n",
    "mean_radius = mean(radiuses)\n",
    "normalized_radius = 0.1 * mean_radius"
   ]
  },
  {
   "cell_type": "code",
   "execution_count": 17,
   "metadata": {
    "collapsed": true
   },
   "outputs": [
    {
     "data": {
      "text/plain": [
       "(array([array([], dtype=float64), array([], dtype=float64),\n",
       "        array([], dtype=float64), array([], dtype=float64),\n",
       "        array([ 0.17320508]), array([], dtype=float64),\n",
       "        array([], dtype=float64), array([], dtype=float64),\n",
       "        array([], dtype=float64), array([], dtype=float64),\n",
       "        array([], dtype=float64), array([], dtype=float64),\n",
       "        array([], dtype=float64), array([], dtype=float64),\n",
       "        array([], dtype=float64), array([], dtype=float64),\n",
       "        array([], dtype=float64), array([], dtype=float64),\n",
       "        array([], dtype=float64), array([ 0.14142136]),\n",
       "        array([], dtype=float64), array([], dtype=float64),\n",
       "        array([ 0.        ,  0.17320508]), array([], dtype=float64),\n",
       "        array([], dtype=float64), array([], dtype=float64),\n",
       "        array([], dtype=float64), array([], dtype=float64),\n",
       "        array([], dtype=float64), array([], dtype=float64),\n",
       "        array([], dtype=float64), array([ 0.        ,  0.17320508]),\n",
       "        array([], dtype=float64), array([], dtype=float64),\n",
       "        array([ 0.14142136]), array([], dtype=float64),\n",
       "        array([], dtype=float64), array([], dtype=float64),\n",
       "        array([], dtype=float64), array([], dtype=float64),\n",
       "        array([], dtype=float64), array([], dtype=float64),\n",
       "        array([], dtype=float64), array([], dtype=float64),\n",
       "        array([ 0.17320508,  0.17320508]), array([], dtype=float64),\n",
       "        array([], dtype=float64),\n",
       "        array([ 0.14142136,  0.14142136,  0.14142136]),\n",
       "        array([], dtype=float64), array([], dtype=float64),\n",
       "        array([], dtype=float64), array([], dtype=float64),\n",
       "        array([], dtype=float64), array([], dtype=float64),\n",
       "        array([], dtype=float64),\n",
       "        array([ 0.14142136,  0.14142136,  0.14142136]),\n",
       "        array([], dtype=float64), array([], dtype=float64),\n",
       "        array([ 0.14142136,  0.14142136,  0.14142136]),\n",
       "        array([], dtype=float64), array([], dtype=float64),\n",
       "        array([], dtype=float64), array([], dtype=float64),\n",
       "        array([], dtype=float64), array([], dtype=float64),\n",
       "        array([], dtype=float64), array([ 0.14142136]),\n",
       "        array([ 0.17320508,  0.14142136,  0.14142136,  0.14142136]),\n",
       "        array([], dtype=float64), array([], dtype=float64),\n",
       "        array([], dtype=float64), array([], dtype=float64),\n",
       "        array([ 0.14142136]), array([], dtype=float64),\n",
       "        array([], dtype=float64)], dtype=object),\n",
       " array([array([], dtype=int64), array([], dtype=int64),\n",
       "        array([], dtype=int64), array([], dtype=int64), array([67]),\n",
       "        array([], dtype=int64), array([], dtype=int64),\n",
       "        array([], dtype=int64), array([], dtype=int64),\n",
       "        array([], dtype=int64), array([], dtype=int64),\n",
       "        array([], dtype=int64), array([], dtype=int64),\n",
       "        array([], dtype=int64), array([], dtype=int64),\n",
       "        array([], dtype=int64), array([], dtype=int64),\n",
       "        array([], dtype=int64), array([], dtype=int64), array([34]),\n",
       "        array([], dtype=int64), array([], dtype=int64), array([31, 44]),\n",
       "        array([], dtype=int64), array([], dtype=int64),\n",
       "        array([], dtype=int64), array([], dtype=int64),\n",
       "        array([], dtype=int64), array([], dtype=int64),\n",
       "        array([], dtype=int64), array([], dtype=int64), array([22, 44]),\n",
       "        array([], dtype=int64), array([], dtype=int64), array([19]),\n",
       "        array([], dtype=int64), array([], dtype=int64),\n",
       "        array([], dtype=int64), array([], dtype=int64),\n",
       "        array([], dtype=int64), array([], dtype=int64),\n",
       "        array([], dtype=int64), array([], dtype=int64),\n",
       "        array([], dtype=int64), array([22, 31]), array([], dtype=int64),\n",
       "        array([], dtype=int64), array([55, 58, 67]), array([], dtype=int64),\n",
       "        array([], dtype=int64), array([], dtype=int64),\n",
       "        array([], dtype=int64), array([], dtype=int64),\n",
       "        array([], dtype=int64), array([], dtype=int64), array([47, 58, 67]),\n",
       "        array([], dtype=int64), array([], dtype=int64), array([47, 55, 67]),\n",
       "        array([], dtype=int64), array([], dtype=int64),\n",
       "        array([], dtype=int64), array([], dtype=int64),\n",
       "        array([], dtype=int64), array([], dtype=int64),\n",
       "        array([], dtype=int64), array([72]), array([ 4, 47, 55, 58]),\n",
       "        array([], dtype=int64), array([], dtype=int64),\n",
       "        array([], dtype=int64), array([], dtype=int64), array([66]),\n",
       "        array([], dtype=int64), array([], dtype=int64)], dtype=object))"
      ]
     },
     "execution_count": 17,
     "metadata": {},
     "output_type": "execute_result"
    }
   ],
   "source": [
    "# find neghbors within a radius\n",
    "from sklearn.neighbors import RadiusNeighborsClassifier\n",
    "radius_nbrs = RadiusNeighborsClassifier(radius=normalized_radius)\n",
    "radius_nbrs.fit(X_train, y_train)\n",
    "radius_nbrs.radius_neighbors()"
   ]
  }
 ],
 "metadata": {
  "kernelspec": {
   "display_name": "Python 3",
   "language": "python",
   "name": "python3"
  },
  "language_info": {
   "codemirror_mode": {
    "name": "ipython",
    "version": 3
   },
   "file_extension": ".py",
   "mimetype": "text/x-python",
   "name": "python",
   "nbconvert_exporter": "python",
   "pygments_lexer": "ipython3",
   "version": "3.5.2"
  }
 },
 "nbformat": 4,
 "nbformat_minor": 2
}
